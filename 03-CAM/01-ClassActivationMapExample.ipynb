{
 "cells": [
  {
   "cell_type": "code",
   "execution_count": 1,
   "id": "8cf217b1",
   "metadata": {},
   "outputs": [],
   "source": [
    "import warnings # ignore boring warnings\n",
    "warnings.filterwarnings(\"ignore\")\n",
    "\n",
    "import numpy as np\n",
    "import os\n",
    "import tensorflow as tf\n",
    "from skimage import transform\n",
    "import matplotlib.pyplot as plt\n",
    "%matplotlib inline\n",
    "os.environ['CUDA_VISIBLE_DEVICES'] = \"0\" #use GPU:0\n",
    "gpus = tf.config.experimental.list_physical_devices(device_type='GPU')\n",
    "for gpu in gpus:\n",
    "    tf.config.experimental.set_memory_growth(device=gpu,enable=True)\n",
    "    "
   ]
  },
  {
   "cell_type": "code",
   "execution_count": 2,
   "id": "b83b9aa3",
   "metadata": {},
   "outputs": [
    {
     "name": "stdout",
     "output_type": "stream",
     "text": [
      "Model: \"sequential\"\n",
      "_________________________________________________________________\n",
      "Layer (type)                 Output Shape              Param #   \n",
      "=================================================================\n",
      "conv2d (Conv2D)              (None, 159, 159, 16)      160       \n",
      "_________________________________________________________________\n",
      "max_pooling2d (MaxPooling2D) (None, 79, 79, 16)        0         \n",
      "_________________________________________________________________\n",
      "conv2d_1 (Conv2D)            (None, 77, 77, 32)        4640      \n",
      "_________________________________________________________________\n",
      "max_pooling2d_1 (MaxPooling2 (None, 38, 38, 32)        0         \n",
      "_________________________________________________________________\n",
      "conv2d_2 (Conv2D)            (None, 36, 36, 64)        18496     \n",
      "_________________________________________________________________\n",
      "max_pooling2d_2 (MaxPooling2 (None, 18, 18, 64)        0         \n",
      "_________________________________________________________________\n",
      "flatten (Flatten)            (None, 20736)             0         \n",
      "_________________________________________________________________\n",
      "dropout (Dropout)            (None, 20736)             0         \n",
      "_________________________________________________________________\n",
      "dense (Dense)                (None, 64)                1327168   \n",
      "_________________________________________________________________\n",
      "dense_1 (Dense)              (None, 3)                 195       \n",
      "=================================================================\n",
      "Total params: 1,350,659\n",
      "Trainable params: 1,350,659\n",
      "Non-trainable params: 0\n",
      "_________________________________________________________________\n"
     ]
    }
   ],
   "source": [
    "\n",
    "# load model\n",
    "model = tf.keras.models.load_model('../01-PretrainedCNNModel/2DCNNDemoModel.h5')\n",
    "model.summary()"
   ]
  },
  {
   "cell_type": "code",
   "execution_count": 3,
   "id": "59c3ba4b",
   "metadata": {
    "scrolled": true
   },
   "outputs": [],
   "source": [
    "# get last conv layer \n",
    "last_conv_layer_name = \"max_pooling2d_2\"\n",
    "classifier_layer_names = [\n",
    "    \"flatten\",\n",
    "    \"dropout\",\n",
    "    \"dense\",\n",
    "    \"dense_1\"]\n",
    "\n",
    "\n",
    "last_conv_layer = model.get_layer(last_conv_layer_name)\n",
    "last_conv_layer_model = tf.keras.Model(model.input, last_conv_layer.output)\n",
    "\n",
    "\n",
    "classifier_input = tf.keras.Input(shape=last_conv_layer.output.shape[1:])\n",
    "x = classifier_input\n",
    "for layer_name in classifier_layer_names:\n",
    "    x = model.get_layer(layer_name)(x)\n",
    "classifier_model = tf.keras.Model(classifier_input, x)"
   ]
  },
  {
   "cell_type": "code",
   "execution_count": 4,
   "id": "5563f69a",
   "metadata": {},
   "outputs": [
    {
     "name": "stdout",
     "output_type": "stream",
     "text": [
      "Model: \"model_1\"\n",
      "_________________________________________________________________\n",
      "Layer (type)                 Output Shape              Param #   \n",
      "=================================================================\n",
      "input_1 (InputLayer)         [(None, 18, 18, 64)]      0         \n",
      "_________________________________________________________________\n",
      "flatten (Flatten)            (None, 20736)             0         \n",
      "_________________________________________________________________\n",
      "dropout (Dropout)            (None, 20736)             0         \n",
      "_________________________________________________________________\n",
      "dense (Dense)                (None, 64)                1327168   \n",
      "_________________________________________________________________\n",
      "dense_1 (Dense)              (None, 3)                 195       \n",
      "=================================================================\n",
      "Total params: 1,327,363\n",
      "Trainable params: 1,327,363\n",
      "Non-trainable params: 0\n",
      "_________________________________________________________________\n"
     ]
    }
   ],
   "source": [
    "classifier_model.summary()"
   ]
  },
  {
   "cell_type": "markdown",
   "id": "70c71c74",
   "metadata": {},
   "source": [
    "## make data"
   ]
  },
  {
   "cell_type": "code",
   "execution_count": 5,
   "id": "8783ba7a",
   "metadata": {},
   "outputs": [
    {
     "name": "stdout",
     "output_type": "stream",
     "text": [
      "Original 2duv shape: (2700, 25921)\n",
      "labels: ['a-helix' 'b-sheet' 'other-SS']\n",
      "['a-helix' 'b-sheet' 'other-SS']\n",
      "[0 1 2]\n",
      "Train data: (1890, 161, 161, 1)\n",
      "Validation data: (270, 161, 161, 1)\n",
      "Test data: (540, 161, 161, 1)\n",
      "Mean value: -1.59583661486646e-24\n",
      "Std value: 1.1228893279331382e-21\n",
      "Train datset after nomolization,Mean:0.000000,Std:1.000000\n",
      "Max:2, Min:-2\n"
     ]
    }
   ],
   "source": [
    "# load_data\n",
    "data_2duv = np.load('/data1/qzhang/small_dataset_pnas/original/original_dataset.npz')['twoduv']\n",
    "labels = np.load('/data1/qzhang/small_dataset_pnas/original/original_dataset.npz')['labels']\n",
    "\n",
    "# oever view\n",
    "print('Original 2duv shape:',data_2duv.shape)\n",
    "print('labels:',np.unique(labels))\n",
    "\n",
    "# preprocess labels\n",
    "from sklearn.preprocessing import LabelEncoder\n",
    "encoder = LabelEncoder()\n",
    "labels_cat = encoder.fit_transform(labels)\n",
    "print(encoder.classes_)\n",
    "print(np.unique(labels_cat))\n",
    "\n",
    "\n",
    "# preprocess 2duv data\n",
    "\n",
    "# split dataset\n",
    "from sklearn.model_selection import train_test_split\n",
    "train_data,test_data,train_label,test_label = train_test_split(data_2duv.reshape(-1,161,161,1),labels_cat,\n",
    "                                                               stratify = labels_cat,\n",
    "                                                               test_size=0.2,\n",
    "                                                               random_state=42)\n",
    "\n",
    "train_x,val_x,train_y,val_y = train_test_split(train_data,train_label,stratify=train_label,\n",
    "                                               test_size = 0.125,random_state=42)\n",
    "\n",
    "\n",
    "print('Train data:',train_x.shape)\n",
    "print('Validation data:',val_x.shape)\n",
    "print('Test data:',test_data.shape)\n",
    "\n",
    "# prprocess 2duv data\n",
    "\n",
    "mean = train_x.mean()\n",
    "std = train_x.std()\n",
    "\n",
    "train_x -= mean\n",
    "train_x /= std\n",
    "\n",
    "print('Mean value:',mean)\n",
    "print('Std value:',std)\n",
    "\n",
    "print('Train datset after nomolization,Mean:%f,Std:%f'%(train_x.mean(),train_x.std()))\n",
    "\n",
    "train_x = train_x.clip(-2,2)\n",
    "print('Max:%d, Min:%d'%(train_x.max(),train_x.min()))\n",
    "\n",
    "\n",
    "# preprocess val_data and test_data\n",
    "val_x -= mean\n",
    "val_x /= std\n",
    "\n",
    "val_x = val_x.clip(-2,2)\n",
    "\n",
    "test_data -= mean\n",
    "test_data /= std\n",
    "\n",
    "test_data = test_data.clip(-2,2)"
   ]
  },
  {
   "cell_type": "markdown",
   "id": "19605572",
   "metadata": {},
   "source": [
    "# Plot CAM"
   ]
  },
  {
   "cell_type": "code",
   "execution_count": 6,
   "id": "69137057",
   "metadata": {},
   "outputs": [],
   "source": [
    "# we def. some usefull functions first...\n",
    "\n",
    "def get_heatmap(index):\n",
    "    experience_sample = train_x[index]\n",
    "\n",
    "    img_array = experience_sample.reshape(-1,161,161,1)\n",
    "\n",
    "    #Compute activations of the last conv layer and make the tape watch it.\n",
    "    with tf.GradientTape() as tape:\n",
    "        last_conv_layer_output = last_conv_layer_model(img_array)\n",
    "        tape.watch(last_conv_layer_output)\n",
    "        # Retrieve the activation channel corresponding to the top predicted class.\n",
    "        preds = classifier_model(last_conv_layer_output)\n",
    "        top_pred_index = tf.argmax(preds[0])\n",
    "        top_class_channel = preds[:, top_pred_index]\n",
    "\n",
    "    #This is the gradient of the top predicted class with regard to the output feature map of the last convolutional layer.\n",
    "    grads = tape.gradient(top_class_channel, last_conv_layer_output)\n",
    "\n",
    "    pooled_grads = tf.reduce_mean(grads, axis=(0, 1, 2)).numpy()\n",
    "    last_conv_layer_output = last_conv_layer_output.numpy()[0]\n",
    "    for i in range(pooled_grads.shape[-1]):\n",
    "        last_conv_layer_output[:, :, i] *= pooled_grads[i]\n",
    "    heatmap = np.mean(last_conv_layer_output, axis=-1)\n",
    "    \n",
    "    # post_preprocessing\n",
    "    heatmap = np.maximum(heatmap, 0) \n",
    "    heatmap /= np.max(heatmap)\n",
    "    heatmap = np.flip(heatmap,axis=0) \n",
    "    \n",
    "    pic = transform.resize(heatmap,(161, 161),order=2)\n",
    "    \n",
    "    return pic\n"
   ]
  },
  {
   "cell_type": "code",
   "execution_count": 7,
   "id": "fc08e77b",
   "metadata": {},
   "outputs": [
    {
     "name": "stdout",
     "output_type": "stream",
     "text": [
      "label: helix\n",
      "Raw data of 2DUV\n",
      "Class Activation Map\n"
     ]
    },
    {
     "data": {
      "image/png": "[encoded data removed]",
      "text/plain": [
       "<Figure size 161x161 with 1 Axes>"
      ]
     },
     "metadata": {
      "needs_background": "light"
     },
     "output_type": "display_data"
    },
    {
     "data": {
      "image/png": "[encoded data removed]",
      "text/plain": [
       "<Figure size 161x161 with 1 Axes>"
      ]
     },
     "metadata": {
      "needs_background": "light"
     },
     "output_type": "display_data"
    }
   ],
   "source": [
    "label_dict = {0:'helix',1:'sheet',2:'other-SS'}\n",
    "\n",
    "num = 70\n",
    "# label:\n",
    "print('label:',label_dict[train_label[num]])\n",
    "\n",
    "# raw 2duv data\n",
    "\n",
    "plt.figure(figsize=(161,161),dpi=1)\n",
    "print('Raw data of 2DUV')\n",
    "# plt.title('Raw data of 2DUV')\n",
    "plt.axis('off')\n",
    "plt.imshow(train_x[num].reshape(161,161),origin='lower',cmap = 'RdYlBu_r',vmin=-2,vmax=2)\n",
    "plt.savefig('./raw_2duv_example.png')\n",
    "\n",
    "# CAM pic\n",
    "plt.figure(figsize=(161,161),dpi=1)\n",
    "print('Class Activation Map')\n",
    "# plt.title('Class Activation Map')\n",
    "plt.axis('off')\n",
    "plt.imshow(get_heatmap(index=num),cmap = 'jet')\n",
    "plt.savefig('./cam_2duv_example.png')"
   ]
  },
  {
   "cell_type": "markdown",
   "id": "8eaec0ae",
   "metadata": {},
   "source": [
    "# plot superimposed pic"
   ]
  },
  {
   "cell_type": "code",
   "execution_count": 8,
   "id": "f9e09531",
   "metadata": {},
   "outputs": [],
   "source": [
    "img_path = './raw_2duv_example.png'\n",
    "img = tf.keras.preprocessing.image.load_img(img_path,target_size=(161,161))\n",
    "img = tf.keras.preprocessing.image.img_to_array(img)\n",
    "\n",
    "\n",
    "hemp_path = './cam_2duv_example.png'\n",
    "heatmap = tf.keras.preprocessing.image.load_img(hemp_path)\n",
    "heatmap = tf.keras.preprocessing.image.img_to_array(heatmap)\n",
    "\n",
    "superimposed_img = heatmap * 0.4 + img\n",
    "superimposed_img = tf.keras.preprocessing.image.array_to_img(superimposed_img)\n",
    "superimposed_img.save('./superimposed_img.png')"
   ]
  },
  {
   "cell_type": "code",
   "execution_count": 9,
   "id": "9384e2e9",
   "metadata": {},
   "outputs": [
    {
     "data": {
      "image/png": "[encoded data removed]",
      "text/plain": [
       "<PIL.Image.Image image mode=RGB size=161x161 at 0x7EFC2C52D390>"
      ]
     },
     "execution_count": 9,
     "metadata": {},
     "output_type": "execute_result"
    }
   ],
   "source": [
    "superimposed_img"
   ]
  },
  {
   "cell_type": "code",
   "execution_count": null,
   "id": "199a1a4d",
   "metadata": {},
   "outputs": [],
   "source": []
  }
 ],
 "metadata": {
  "kernelspec": {
   "display_name": "Python 3",
   "language": "python",
   "name": "python3"
  },
  "language_info": {
   "codemirror_mode": {
    "name": "ipython",
    "version": 3
   },
   "file_extension": ".py",
   "mimetype": "text/x-python",
   "name": "python",
   "nbconvert_exporter": "python",
   "pygments_lexer": "ipython3",
   "version": "3.7.10"
  }
 },
 "nbformat": 4,
 "nbformat_minor": 5
}
