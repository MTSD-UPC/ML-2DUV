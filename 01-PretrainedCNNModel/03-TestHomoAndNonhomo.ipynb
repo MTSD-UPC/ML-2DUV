{
 "cells": [
  {
   "cell_type": "code",
   "execution_count": 2,
   "id": "8695befe",
   "metadata": {},
   "outputs": [
    {
     "name": "stdout",
     "output_type": "stream",
     "text": [
      "name: \"/device:GPU:0\"\n",
      "device_type: \"GPU\"\n",
      "memory_limit: 10561793600\n",
      "locality {\n",
      "  bus_id: 1\n",
      "  links {\n",
      "  }\n",
      "}\n",
      "incarnation: 5672877112755318072\n",
      "physical_device_desc: \"device: 0, name: GeForce RTX 2080 Ti, pci bus id: 0000:3b:00.0, compute capability: 7.5\"\n",
      "\n",
      "Tensorflow Version: 2.4.1\n"
     ]
    }
   ],
   "source": [
    "import os\n",
    "import numpy as np\n",
    "import tensorflow as tf \n",
    "\n",
    "os.environ['CUDA_VISIBLE_DEVICES'] = \"0\" #use GPU:0 only\n",
    "\n",
    "physical_devices = tf.config.list_physical_devices('GPU')\n",
    "for dev in physical_devices:  # 如果使用多块GPU时\n",
    "    tf.config.experimental.set_memory_growth(dev, True)\n",
    "\n",
    "from tensorflow.python.client import device_lib\n",
    "local_device_protos = device_lib.list_local_devices()\n",
    "#print GPU Devices\n",
    "[print(x) for x in local_device_protos if x.device_type == 'GPU']\n",
    "print('Tensorflow Version:',tf.__version__)"
   ]
  },
  {
   "cell_type": "markdown",
   "id": "b9e9c53f",
   "metadata": {},
   "source": [
    "# Pre-trained 2D CNN model predicts 2DUV homo and nonhomo dataset"
   ]
  },
  {
   "cell_type": "code",
   "execution_count": 3,
   "id": "1eb3dc82",
   "metadata": {},
   "outputs": [],
   "source": [
    "# load model\n",
    "model_2duv = tf.keras.models.load_model('./2DCNNDemoModel.h5')"
   ]
  },
  {
   "cell_type": "code",
   "execution_count": 4,
   "id": "c49a54af",
   "metadata": {},
   "outputs": [
    {
     "name": "stdout",
     "output_type": "stream",
     "text": [
      "Model: \"sequential\"\n",
      "_________________________________________________________________\n",
      "Layer (type)                 Output Shape              Param #   \n",
      "=================================================================\n",
      "conv2d (Conv2D)              (None, 159, 159, 16)      160       \n",
      "_________________________________________________________________\n",
      "max_pooling2d (MaxPooling2D) (None, 79, 79, 16)        0         \n",
      "_________________________________________________________________\n",
      "conv2d_1 (Conv2D)            (None, 77, 77, 32)        4640      \n",
      "_________________________________________________________________\n",
      "max_pooling2d_1 (MaxPooling2 (None, 38, 38, 32)        0         \n",
      "_________________________________________________________________\n",
      "conv2d_2 (Conv2D)            (None, 36, 36, 64)        18496     \n",
      "_________________________________________________________________\n",
      "max_pooling2d_2 (MaxPooling2 (None, 18, 18, 64)        0         \n",
      "_________________________________________________________________\n",
      "flatten (Flatten)            (None, 20736)             0         \n",
      "_________________________________________________________________\n",
      "dropout (Dropout)            (None, 20736)             0         \n",
      "_________________________________________________________________\n",
      "dense (Dense)                (None, 64)                1327168   \n",
      "_________________________________________________________________\n",
      "dense_1 (Dense)              (None, 3)                 195       \n",
      "=================================================================\n",
      "Total params: 1,350,659\n",
      "Trainable params: 1,350,659\n",
      "Non-trainable params: 0\n",
      "_________________________________________________________________\n"
     ]
    }
   ],
   "source": [
    "model_2duv.summary()"
   ]
  },
  {
   "cell_type": "markdown",
   "id": "86b31011",
   "metadata": {},
   "source": [
    "## test homo data"
   ]
  },
  {
   "cell_type": "code",
   "execution_count": 10,
   "id": "1340fe51",
   "metadata": {},
   "outputs": [
    {
     "name": "stdout",
     "output_type": "stream",
     "text": [
      "(1350, 25921)\n",
      "['a-helix' 'b-sheet' 'other-SS']\n",
      "[0 1 2]\n"
     ]
    }
   ],
   "source": [
    "# preprocessing 2duv data\n",
    "\n",
    "# load 2duv\n",
    "homo_2duv = np.load('/data1/qzhang/small_dataset_pnas/homologous/homologous_dataset.npz')['twoduv']\n",
    "labels = np.load('/data1/qzhang/small_dataset_pnas/homologous/homologous_dataset.npz')['labels']\n",
    "\n",
    "print(homo_2duv.shape)\n",
    "\n",
    "# preprocess\n",
    "# mean and std are calculated from 00-2DCNNModelDemo.ipynb \n",
    "mean = -1.59583661486646e-24\n",
    "std = 1.1228893279331382e-21\n",
    "\n",
    "homo_2duv -= mean\n",
    "homo_2duv /= std\n",
    "\n",
    "homo_2duv = homo_2duv.clip(-2,2)\n",
    "\n",
    "# reshape\n",
    "homo_2duv = homo_2duv.reshape(-1,161,161,1) # match input shape of CNN\n",
    "\n",
    "# preprocess labels\n",
    "\n",
    "from sklearn.preprocessing import LabelEncoder\n",
    "encoder = LabelEncoder()\n",
    "labels_cat_2duv = encoder.fit_transform(labels)\n",
    "print(encoder.classes_)\n",
    "print(np.unique(labels_cat_2duv))"
   ]
  },
  {
   "cell_type": "code",
   "execution_count": 11,
   "id": "651b77dd",
   "metadata": {},
   "outputs": [
    {
     "name": "stdout",
     "output_type": "stream",
     "text": [
      "43/43 [==============================] - 0s 7ms/step - loss: 0.2834 - acc: 0.9081\n"
     ]
    },
    {
     "data": {
      "text/plain": [
       "[0.28344300389289856, 0.9081481695175171]"
      ]
     },
     "execution_count": 11,
     "metadata": {},
     "output_type": "execute_result"
    }
   ],
   "source": [
    "# test\n",
    "model_2duv.evaluate(homo_2duv,labels_cat_2duv)"
   ]
  },
  {
   "cell_type": "code",
   "execution_count": 18,
   "id": "3d538723",
   "metadata": {},
   "outputs": [
    {
     "name": "stdout",
     "output_type": "stream",
     "text": [
      "Confusion Matrix:\n",
      "\n",
      " [[449   1   0]\n",
      " [ 15 359  76]\n",
      " [  8  24 418]]\n"
     ]
    }
   ],
   "source": [
    "# make confusion matrix\n",
    "pre_2duv_labels = model_2duv.predict_classes(homo_2duv)\n",
    "\n",
    "from sklearn.metrics import confusion_matrix\n",
    "con_mat = confusion_matrix(labels_cat_2duv,pre_2duv_labels)\n",
    "print('Confusion Matrix:\\n\\n',con_mat)"
   ]
  },
  {
   "cell_type": "markdown",
   "id": "37b1aebc",
   "metadata": {},
   "source": [
    "## test non-homo data"
   ]
  },
  {
   "cell_type": "code",
   "execution_count": 6,
   "id": "a64b842e",
   "metadata": {},
   "outputs": [
    {
     "name": "stdout",
     "output_type": "stream",
     "text": [
      "(1350, 25921)\n",
      "[0 1 2]\n",
      "[0 1 2]\n"
     ]
    }
   ],
   "source": [
    "# load 2duv\n",
    "homo_2duv = np.load('/data1/qzhang/small_dataset_pnas/nonhomologous/nonhomologous_dataset.npz')['twoduv']\n",
    "labels = np.load('/data1/qzhang/small_dataset_pnas/nonhomologous/nonhomologous_dataset.npz')['labels']\n",
    "\n",
    "print(homo_2duv.shape)\n",
    "\n",
    "# preprocess\n",
    "# mean and std are calculated from 00-2DCNNModelDemo.ipynb \n",
    "mean = -1.59583661486646e-24\n",
    "std = 1.1228893279331382e-21\n",
    "\n",
    "homo_2duv -= mean\n",
    "homo_2duv /= std\n",
    "\n",
    "homo_2duv = homo_2duv.clip(-2,2)\n",
    "\n",
    "# reshape\n",
    "homo_2duv = homo_2duv.reshape(-1,161,161,1) # match input shape of CNN\n",
    "\n",
    "# preprocess labels\n",
    "\n",
    "from sklearn.preprocessing import LabelEncoder\n",
    "encoder = LabelEncoder()\n",
    "labels_cat_2duv = encoder.fit_transform(labels)\n",
    "print(encoder.classes_)\n",
    "print(np.unique(labels_cat_2duv))"
   ]
  },
  {
   "cell_type": "code",
   "execution_count": 7,
   "id": "dc27533c",
   "metadata": {},
   "outputs": [
    {
     "name": "stdout",
     "output_type": "stream",
     "text": [
      "43/43 [==============================] - 7s 9ms/step - loss: 1.7001 - acc: 0.6659\n"
     ]
    },
    {
     "data": {
      "text/plain": [
       "[1.700068712234497, 0.665925920009613]"
      ]
     },
     "execution_count": 7,
     "metadata": {},
     "output_type": "execute_result"
    }
   ],
   "source": [
    "model_2duv.evaluate(homo_2duv,labels_cat_2duv)"
   ]
  },
  {
   "cell_type": "code",
   "execution_count": 8,
   "id": "9cdeefe0",
   "metadata": {},
   "outputs": [
    {
     "name": "stderr",
     "output_type": "stream",
     "text": [
      "/home/qzhang/anaconda3/lib/python3.7/site-packages/tensorflow/python/keras/engine/sequential.py:450: UserWarning: `model.predict_classes()` is deprecated and will be removed after 2021-01-01. Please use instead:* `np.argmax(model.predict(x), axis=-1)`,   if your model does multi-class classification   (e.g. if it uses a `softmax` last-layer activation).* `(model.predict(x) > 0.5).astype(\"int32\")`,   if your model does binary classification   (e.g. if it uses a `sigmoid` last-layer activation).\n",
      "  warnings.warn('`model.predict_classes()` is deprecated and '\n"
     ]
    },
    {
     "name": "stdout",
     "output_type": "stream",
     "text": [
      "Confusion Matrix:\n",
      "\n",
      " [[332  55  63]\n",
      " [132 149 169]\n",
      " [ 11  21 418]]\n"
     ]
    }
   ],
   "source": [
    "# make confusion matrix\n",
    "pre_2duv_labels = model_2duv.predict_classes(homo_2duv)\n",
    "\n",
    "from sklearn.metrics import confusion_matrix\n",
    "con_mat = confusion_matrix(labels_cat_2duv,pre_2duv_labels)\n",
    "print('Confusion Matrix:\\n\\n',con_mat)"
   ]
  },
  {
   "cell_type": "code",
   "execution_count": null,
   "id": "166bde80",
   "metadata": {},
   "outputs": [],
   "source": []
  }
 ],
 "metadata": {
  "kernelspec": {
   "display_name": "Python 3",
   "language": "python",
   "name": "python3"
  },
  "language_info": {
   "codemirror_mode": {
    "name": "ipython",
    "version": 3
   },
   "file_extension": ".py",
   "mimetype": "text/x-python",
   "name": "python",
   "nbconvert_exporter": "python",
   "pygments_lexer": "ipython3",
   "version": "3.7.10"
  }
 },
 "nbformat": 4,
 "nbformat_minor": 5
}
