{
 "cells": [
  {
   "cell_type": "code",
   "execution_count": 1,
   "id": "b9efe4b7",
   "metadata": {},
   "outputs": [
    {
     "name": "stderr",
     "output_type": "stream",
     "text": [
      "In /home/qzhang/anaconda3/lib/python3.7/site-packages/matplotlib/mpl-data/stylelib/_classic_test.mplstyle: \n",
      "The text.latex.preview rcparam was deprecated in Matplotlib 3.3 and will be removed two minor releases later.\n",
      "In /home/qzhang/anaconda3/lib/python3.7/site-packages/matplotlib/mpl-data/stylelib/_classic_test.mplstyle: \n",
      "The mathtext.fallback_to_cm rcparam was deprecated in Matplotlib 3.3 and will be removed two minor releases later.\n",
      "In /home/qzhang/anaconda3/lib/python3.7/site-packages/matplotlib/mpl-data/stylelib/_classic_test.mplstyle: Support for setting the 'mathtext.fallback_to_cm' rcParam is deprecated since 3.3 and will be removed two minor releases later; use 'mathtext.fallback : 'cm' instead.\n",
      "In /home/qzhang/anaconda3/lib/python3.7/site-packages/matplotlib/mpl-data/stylelib/_classic_test.mplstyle: \n",
      "The validate_bool_maybe_none function was deprecated in Matplotlib 3.3 and will be removed two minor releases later.\n",
      "In /home/qzhang/anaconda3/lib/python3.7/site-packages/matplotlib/mpl-data/stylelib/_classic_test.mplstyle: \n",
      "The savefig.jpeg_quality rcparam was deprecated in Matplotlib 3.3 and will be removed two minor releases later.\n",
      "In /home/qzhang/anaconda3/lib/python3.7/site-packages/matplotlib/mpl-data/stylelib/_classic_test.mplstyle: \n",
      "The keymap.all_axes rcparam was deprecated in Matplotlib 3.3 and will be removed two minor releases later.\n",
      "In /home/qzhang/anaconda3/lib/python3.7/site-packages/matplotlib/mpl-data/stylelib/_classic_test.mplstyle: \n",
      "The animation.avconv_path rcparam was deprecated in Matplotlib 3.3 and will be removed two minor releases later.\n",
      "In /home/qzhang/anaconda3/lib/python3.7/site-packages/matplotlib/mpl-data/stylelib/_classic_test.mplstyle: \n",
      "The animation.avconv_args rcparam was deprecated in Matplotlib 3.3 and will be removed two minor releases later.\n"
     ]
    },
    {
     "name": "stdout",
     "output_type": "stream",
     "text": [
      "name: \"/device:GPU:0\"\n",
      "device_type: \"GPU\"\n",
      "memory_limit: 10561793600\n",
      "locality {\n",
      "  bus_id: 2\n",
      "  numa_node: 1\n",
      "  links {\n",
      "  }\n",
      "}\n",
      "incarnation: 2443545207557066409\n",
      "physical_device_desc: \"device: 0, name: GeForce RTX 2080 Ti, pci bus id: 0000:af:00.0, compute capability: 7.5\"\n",
      "\n",
      "Tensorflow Version: 2.4.1\n"
     ]
    }
   ],
   "source": [
    "import os\n",
    "import numpy as np\n",
    "import tensorflow as tf \n",
    "import matplotlib.pyplot as plt\n",
    "%matplotlib inline\n",
    "\n",
    "os.environ['CUDA_VISIBLE_DEVICES'] = \"1\" #use GPU:0 only\n",
    "gpus = tf.config.experimental.list_physical_devices(device_type='GPU') \n",
    "for gpu in gpus:\n",
    "    tf.config.experimental.set_memory_growth(device=gpu,enable=True) \n",
    "\n",
    "from tensorflow.python.client import device_lib\n",
    "local_device_protos = device_lib.list_local_devices()\n",
    "#print GPU Devices\n",
    "[print(x) for x in local_device_protos if x.device_type == 'GPU']\n",
    "print('Tensorflow Version:',tf.__version__)"
   ]
  },
  {
   "cell_type": "markdown",
   "id": "d44ffe7f",
   "metadata": {},
   "source": [
    "# Preproecessing"
   ]
  },
  {
   "cell_type": "code",
   "execution_count": 2,
   "id": "335809ab",
   "metadata": {},
   "outputs": [
    {
     "name": "stdout",
     "output_type": "stream",
     "text": [
      "Original 2duv shape: (2700, 25921)\n",
      "labels: ['a-helix' 'b-sheet' 'other-SS']\n"
     ]
    }
   ],
   "source": [
    "# load_data\n",
    "data_2duv = np.load('/data1/qzhang/small_dataset_pnas/original/original_dataset.npz')['twoduv']\n",
    "labels = np.load('/data1/qzhang/small_dataset_pnas/original/original_dataset.npz')['labels']\n",
    "\n",
    "# oever view\n",
    "print('Original 2duv shape:',data_2duv.shape)\n",
    "print('labels:',np.unique(labels))"
   ]
  },
  {
   "cell_type": "code",
   "execution_count": 3,
   "id": "da307743",
   "metadata": {},
   "outputs": [
    {
     "name": "stdout",
     "output_type": "stream",
     "text": [
      "['a-helix' 'b-sheet' 'other-SS']\n",
      "[0 1 2]\n"
     ]
    }
   ],
   "source": [
    "# preprocess labels\n",
    "from sklearn.preprocessing import LabelEncoder\n",
    "encoder = LabelEncoder()\n",
    "labels_cat = encoder.fit_transform(labels)\n",
    "print(encoder.classes_)\n",
    "print(np.unique(labels_cat))"
   ]
  },
  {
   "cell_type": "code",
   "execution_count": 4,
   "id": "34535bc6",
   "metadata": {},
   "outputs": [
    {
     "name": "stdout",
     "output_type": "stream",
     "text": [
      "Train data: (1890, 161, 161, 1)\n",
      "Validation data: (270, 161, 161, 1)\n",
      "Test data: (540, 161, 161, 1)\n"
     ]
    }
   ],
   "source": [
    "# preprocess 2duv data\n",
    "\n",
    "# split dataset\n",
    "from sklearn.model_selection import train_test_split\n",
    "train_data,test_data,train_label,test_label = train_test_split(data_2duv.reshape(-1,161,161,1),labels_cat,\n",
    "                                                               stratify = labels_cat,\n",
    "                                                               test_size=0.2,\n",
    "                                                               random_state=42)\n",
    "\n",
    "train_x,val_x,train_y,val_y = train_test_split(train_data,train_label,stratify=train_label,\n",
    "                                               test_size = 0.125,random_state=42)\n",
    "\n",
    "\n",
    "print('Train data:',train_x.shape)\n",
    "print('Validation data:',val_x.shape)\n",
    "print('Test data:',test_data.shape)\n"
   ]
  },
  {
   "cell_type": "code",
   "execution_count": 6,
   "id": "438f5c9e",
   "metadata": {},
   "outputs": [
    {
     "name": "stdout",
     "output_type": "stream",
     "text": [
      "Mean value: -1.59583661486646e-24\n",
      "Std value: 1.1228893279331382e-21\n",
      "Train datset after nomolization,Mean:0.000000,Std:1.000000\n",
      "Max:2, Min:-2\n"
     ]
    }
   ],
   "source": [
    "# prprocess 2duv data\n",
    "\n",
    "mean = train_x.mean()\n",
    "std = train_x.std()\n",
    "\n",
    "train_x -= mean\n",
    "train_x /= std\n",
    "\n",
    "print('Mean value:',mean)\n",
    "print('Std value:',std)\n",
    "\n",
    "print('Train datset after nomolization,Mean:%f,Std:%f'%(train_x.mean(),train_x.std()))\n",
    "\n",
    "train_x = train_x.clip(-2,2)\n",
    "print('Max:%d, Min:%d'%(train_x.max(),train_x.min()))\n",
    "\n",
    "\n",
    "# preprocess val_data and test_data\n",
    "val_x -= mean\n",
    "val_x /= std\n",
    "\n",
    "val_x = val_x.clip(-2,2)\n",
    "\n",
    "test_data -= mean\n",
    "test_data /= std\n",
    "\n",
    "test_data = test_data.clip(-2,2)"
   ]
  },
  {
   "cell_type": "markdown",
   "id": "37a3bacc",
   "metadata": {},
   "source": [
    "# Build  a 2D CNN Demo"
   ]
  },
  {
   "cell_type": "code",
   "execution_count": 8,
   "id": "bc270dd9",
   "metadata": {},
   "outputs": [],
   "source": [
    "#建立模型\n",
    "from tensorflow.keras import models,layers,optimizers\n",
    "def build_model():\n",
    "    model = models.Sequential()\n",
    "    model.add(layers.Conv2D(16, (3,3), activation='relu', input_shape=(161,161,1)))\n",
    "    model.add(layers.MaxPooling2D(2,2))\n",
    "    model.add(layers.Conv2D(32, (3,3), activation='relu'))\n",
    "    model.add(layers.MaxPooling2D(2,2))\n",
    "    model.add(layers.Conv2D(64, (3,3), activation='relu'))\n",
    "    model.add(layers.MaxPooling2D((2,2)))\n",
    "    model.add(layers.Flatten())\n",
    "    model.add(layers.Dropout(0.5))\n",
    "    model.add(layers.Dense(64, activation='relu'))\n",
    "    model.add(layers.Dense(3, activation='softmax'))\n",
    "    model.compile(loss='sparse_categorical_crossentropy', optimizer=optimizers.Adam(learning_rate=0.0001), metrics=['acc'])\n",
    "    return model\n"
   ]
  },
  {
   "cell_type": "code",
   "execution_count": 9,
   "id": "4e88675b",
   "metadata": {
    "scrolled": true
   },
   "outputs": [
    {
     "name": "stdout",
     "output_type": "stream",
     "text": [
      "Epoch 1/50\n",
      "30/30 [==============================] - 5s 41ms/step - loss: 1.0321 - acc: 0.4709 - val_loss: 1.0353 - val_acc: 0.6481\n",
      "Epoch 2/50\n",
      "30/30 [==============================] - 0s 15ms/step - loss: 0.8382 - acc: 0.7411 - val_loss: 1.2814 - val_acc: 0.7037\n",
      "Epoch 3/50\n",
      "30/30 [==============================] - 0s 16ms/step - loss: 0.5146 - acc: 0.8400 - val_loss: 2.3227 - val_acc: 0.7037\n",
      "Epoch 4/50\n",
      "30/30 [==============================] - 0s 16ms/step - loss: 0.3417 - acc: 0.8936 - val_loss: 3.5639 - val_acc: 0.7556\n",
      "Epoch 5/50\n",
      "30/30 [==============================] - 0s 16ms/step - loss: 0.2660 - acc: 0.9067 - val_loss: 3.7984 - val_acc: 0.7259\n",
      "Epoch 6/50\n",
      "30/30 [==============================] - 0s 15ms/step - loss: 0.2443 - acc: 0.9130 - val_loss: 3.7186 - val_acc: 0.7481\n",
      "Epoch 7/50\n",
      "30/30 [==============================] - 0s 15ms/step - loss: 0.1745 - acc: 0.9510 - val_loss: 3.8123 - val_acc: 0.7407\n",
      "Epoch 8/50\n",
      "30/30 [==============================] - 0s 15ms/step - loss: 0.1690 - acc: 0.9542 - val_loss: 4.4660 - val_acc: 0.7333\n",
      "Epoch 9/50\n",
      "30/30 [==============================] - 0s 16ms/step - loss: 0.1415 - acc: 0.9608 - val_loss: 4.6078 - val_acc: 0.7778\n",
      "Epoch 10/50\n",
      "30/30 [==============================] - 0s 15ms/step - loss: 0.1287 - acc: 0.9603 - val_loss: 4.8068 - val_acc: 0.7778\n",
      "Epoch 11/50\n",
      "30/30 [==============================] - 0s 15ms/step - loss: 0.0932 - acc: 0.9762 - val_loss: 4.9759 - val_acc: 0.7593\n",
      "Epoch 12/50\n",
      "30/30 [==============================] - 0s 16ms/step - loss: 0.1135 - acc: 0.9652 - val_loss: 5.1253 - val_acc: 0.7852\n",
      "Epoch 13/50\n",
      "30/30 [==============================] - 0s 16ms/step - loss: 0.0894 - acc: 0.9740 - val_loss: 5.4654 - val_acc: 0.7704\n",
      "Epoch 14/50\n",
      "30/30 [==============================] - 0s 16ms/step - loss: 0.0931 - acc: 0.9715 - val_loss: 5.6960 - val_acc: 0.7852\n",
      "Epoch 15/50\n",
      "30/30 [==============================] - 0s 15ms/step - loss: 0.0999 - acc: 0.9656 - val_loss: 5.1480 - val_acc: 0.7630\n",
      "Epoch 16/50\n",
      "30/30 [==============================] - 0s 15ms/step - loss: 0.0896 - acc: 0.9718 - val_loss: 5.1943 - val_acc: 0.7667\n",
      "Epoch 17/50\n",
      "30/30 [==============================] - 0s 15ms/step - loss: 0.0722 - acc: 0.9768 - val_loss: 5.3305 - val_acc: 0.7926\n",
      "Epoch 18/50\n",
      "30/30 [==============================] - 0s 16ms/step - loss: 0.0867 - acc: 0.9704 - val_loss: 5.6593 - val_acc: 0.7630\n",
      "Epoch 19/50\n",
      "30/30 [==============================] - 0s 15ms/step - loss: 0.0714 - acc: 0.9800 - val_loss: 5.6681 - val_acc: 0.7889\n",
      "Epoch 20/50\n",
      "30/30 [==============================] - 0s 15ms/step - loss: 0.0640 - acc: 0.9828 - val_loss: 5.5466 - val_acc: 0.8148\n",
      "Epoch 21/50\n",
      "30/30 [==============================] - 0s 15ms/step - loss: 0.0608 - acc: 0.9862 - val_loss: 5.7755 - val_acc: 0.7815\n",
      "Epoch 22/50\n",
      "30/30 [==============================] - 0s 15ms/step - loss: 0.0592 - acc: 0.9867 - val_loss: 5.6474 - val_acc: 0.8074\n",
      "Epoch 23/50\n",
      "30/30 [==============================] - 0s 16ms/step - loss: 0.0440 - acc: 0.9872 - val_loss: 5.2861 - val_acc: 0.8185\n",
      "Epoch 24/50\n",
      "30/30 [==============================] - 0s 16ms/step - loss: 0.0746 - acc: 0.9771 - val_loss: 5.7954 - val_acc: 0.8148\n",
      "Epoch 25/50\n",
      "30/30 [==============================] - 1s 18ms/step - loss: 0.0496 - acc: 0.9818 - val_loss: 6.2229 - val_acc: 0.8111\n",
      "Epoch 26/50\n",
      "30/30 [==============================] - 1s 24ms/step - loss: 0.0512 - acc: 0.9840 - val_loss: 5.8929 - val_acc: 0.8185\n",
      "Epoch 27/50\n",
      "30/30 [==============================] - 1s 17ms/step - loss: 0.0560 - acc: 0.9894 - val_loss: 6.0269 - val_acc: 0.8037\n",
      "Epoch 28/50\n",
      "30/30 [==============================] - 0s 15ms/step - loss: 0.0537 - acc: 0.9858 - val_loss: 6.1026 - val_acc: 0.7815\n",
      "Epoch 29/50\n",
      "30/30 [==============================] - 0s 16ms/step - loss: 0.0619 - acc: 0.9790 - val_loss: 5.9478 - val_acc: 0.8111\n",
      "Epoch 30/50\n",
      "30/30 [==============================] - 0s 15ms/step - loss: 0.0479 - acc: 0.9845 - val_loss: 5.8567 - val_acc: 0.8111\n",
      "Epoch 31/50\n",
      "30/30 [==============================] - 0s 15ms/step - loss: 0.0465 - acc: 0.9834 - val_loss: 5.9077 - val_acc: 0.8074\n",
      "Epoch 32/50\n",
      "30/30 [==============================] - 0s 15ms/step - loss: 0.0500 - acc: 0.9841 - val_loss: 5.8095 - val_acc: 0.8259\n",
      "Epoch 33/50\n",
      "30/30 [==============================] - 0s 16ms/step - loss: 0.0311 - acc: 0.9943 - val_loss: 5.6643 - val_acc: 0.8333\n",
      "Epoch 34/50\n",
      "30/30 [==============================] - 0s 17ms/step - loss: 0.0569 - acc: 0.9827 - val_loss: 5.4563 - val_acc: 0.8296\n",
      "Epoch 35/50\n",
      "30/30 [==============================] - 0s 16ms/step - loss: 0.0357 - acc: 0.9899 - val_loss: 5.8981 - val_acc: 0.8148\n",
      "Epoch 36/50\n",
      "30/30 [==============================] - 1s 22ms/step - loss: 0.0366 - acc: 0.9874 - val_loss: 5.9386 - val_acc: 0.8111\n",
      "Epoch 37/50\n",
      "30/30 [==============================] - 0s 16ms/step - loss: 0.0458 - acc: 0.9898 - val_loss: 5.8034 - val_acc: 0.8185\n",
      "Epoch 38/50\n",
      "30/30 [==============================] - 0s 16ms/step - loss: 0.0429 - acc: 0.9878 - val_loss: 5.7486 - val_acc: 0.8222\n",
      "Epoch 39/50\n",
      "30/30 [==============================] - 0s 15ms/step - loss: 0.0450 - acc: 0.9882 - val_loss: 5.9663 - val_acc: 0.8333\n",
      "Epoch 40/50\n",
      "30/30 [==============================] - 0s 16ms/step - loss: 0.0333 - acc: 0.9901 - val_loss: 5.4489 - val_acc: 0.8333\n",
      "Epoch 41/50\n",
      "30/30 [==============================] - 1s 21ms/step - loss: 0.0310 - acc: 0.9916 - val_loss: 5.4061 - val_acc: 0.8259\n",
      "Epoch 42/50\n",
      "30/30 [==============================] - 0s 16ms/step - loss: 0.0417 - acc: 0.9904 - val_loss: 5.6470 - val_acc: 0.8259\n",
      "Epoch 43/50\n",
      "30/30 [==============================] - 0s 15ms/step - loss: 0.0260 - acc: 0.9928 - val_loss: 5.9943 - val_acc: 0.8222\n",
      "Epoch 44/50\n",
      "30/30 [==============================] - 0s 15ms/step - loss: 0.0402 - acc: 0.9866 - val_loss: 6.1487 - val_acc: 0.8111\n",
      "Epoch 45/50\n",
      "30/30 [==============================] - 0s 15ms/step - loss: 0.0415 - acc: 0.9844 - val_loss: 5.6005 - val_acc: 0.8259\n",
      "Epoch 46/50\n",
      "30/30 [==============================] - 0s 15ms/step - loss: 0.0340 - acc: 0.9888 - val_loss: 5.7218 - val_acc: 0.8222\n",
      "Epoch 47/50\n",
      "30/30 [==============================] - 0s 15ms/step - loss: 0.0390 - acc: 0.9877 - val_loss: 5.7500 - val_acc: 0.8259\n",
      "Epoch 48/50\n",
      "30/30 [==============================] - 0s 16ms/step - loss: 0.0255 - acc: 0.9966 - val_loss: 5.8497 - val_acc: 0.8148\n",
      "Epoch 49/50\n",
      "30/30 [==============================] - 0s 16ms/step - loss: 0.0355 - acc: 0.9915 - val_loss: 5.4757 - val_acc: 0.8259\n",
      "Epoch 50/50\n",
      "30/30 [==============================] - 1s 17ms/step - loss: 0.0272 - acc: 0.9893 - val_loss: 6.5318 - val_acc: 0.8111\n"
     ]
    }
   ],
   "source": [
    "model = build_model()\n",
    "history = model.fit(train_x,\n",
    "                   train_y, epochs=50, batch_size=64,\n",
    "                   validation_data=(val_x,val_y))"
   ]
  },
  {
   "cell_type": "markdown",
   "id": "d74020df",
   "metadata": {},
   "source": [
    "### Test test_data"
   ]
  },
  {
   "cell_type": "code",
   "execution_count": 10,
   "id": "15fc8e6e",
   "metadata": {},
   "outputs": [
    {
     "name": "stdout",
     "output_type": "stream",
     "text": [
      "17/17 [==============================] - 0s 9ms/step - loss: 5.5715 - acc: 0.8370\n"
     ]
    },
    {
     "data": {
      "text/plain": [
       "[5.571462631225586, 0.8370370268821716]"
      ]
     },
     "execution_count": 10,
     "metadata": {},
     "output_type": "execute_result"
    }
   ],
   "source": [
    "model.evaluate(test_data,test_label)"
   ]
  },
  {
   "cell_type": "markdown",
   "id": "b2611845",
   "metadata": {},
   "source": [
    "### save model"
   ]
  },
  {
   "cell_type": "code",
   "execution_count": 11,
   "id": "1b7d57db",
   "metadata": {},
   "outputs": [],
   "source": [
    "model.save('./2DCNNDemoModel.h5')"
   ]
  },
  {
   "cell_type": "code",
   "execution_count": null,
   "id": "8a65e74c",
   "metadata": {},
   "outputs": [],
   "source": []
  }
 ],
 "metadata": {
  "kernelspec": {
   "display_name": "Python 3",
   "language": "python",
   "name": "python3"
  },
  "language_info": {
   "codemirror_mode": {
    "name": "ipython",
    "version": 3
   },
   "file_extension": ".py",
   "mimetype": "text/x-python",
   "name": "python",
   "nbconvert_exporter": "python",
   "pygments_lexer": "ipython3",
   "version": "3.7.10"
  }
 },
 "nbformat": 4,
 "nbformat_minor": 5
}
