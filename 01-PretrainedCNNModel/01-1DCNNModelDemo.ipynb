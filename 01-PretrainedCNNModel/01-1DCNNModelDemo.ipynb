{
 "cells": [
  {
   "cell_type": "code",
   "execution_count": 1,
   "id": "d95ff242",
   "metadata": {},
   "outputs": [
    {
     "name": "stderr",
     "output_type": "stream",
     "text": [
      "In /home/qzhang/anaconda3/lib/python3.7/site-packages/matplotlib/mpl-data/stylelib/_classic_test.mplstyle: \n",
      "The text.latex.preview rcparam was deprecated in Matplotlib 3.3 and will be removed two minor releases later.\n",
      "In /home/qzhang/anaconda3/lib/python3.7/site-packages/matplotlib/mpl-data/stylelib/_classic_test.mplstyle: \n",
      "The mathtext.fallback_to_cm rcparam was deprecated in Matplotlib 3.3 and will be removed two minor releases later.\n",
      "In /home/qzhang/anaconda3/lib/python3.7/site-packages/matplotlib/mpl-data/stylelib/_classic_test.mplstyle: Support for setting the 'mathtext.fallback_to_cm' rcParam is deprecated since 3.3 and will be removed two minor releases later; use 'mathtext.fallback : 'cm' instead.\n",
      "In /home/qzhang/anaconda3/lib/python3.7/site-packages/matplotlib/mpl-data/stylelib/_classic_test.mplstyle: \n",
      "The validate_bool_maybe_none function was deprecated in Matplotlib 3.3 and will be removed two minor releases later.\n",
      "In /home/qzhang/anaconda3/lib/python3.7/site-packages/matplotlib/mpl-data/stylelib/_classic_test.mplstyle: \n",
      "The savefig.jpeg_quality rcparam was deprecated in Matplotlib 3.3 and will be removed two minor releases later.\n",
      "In /home/qzhang/anaconda3/lib/python3.7/site-packages/matplotlib/mpl-data/stylelib/_classic_test.mplstyle: \n",
      "The keymap.all_axes rcparam was deprecated in Matplotlib 3.3 and will be removed two minor releases later.\n",
      "In /home/qzhang/anaconda3/lib/python3.7/site-packages/matplotlib/mpl-data/stylelib/_classic_test.mplstyle: \n",
      "The animation.avconv_path rcparam was deprecated in Matplotlib 3.3 and will be removed two minor releases later.\n",
      "In /home/qzhang/anaconda3/lib/python3.7/site-packages/matplotlib/mpl-data/stylelib/_classic_test.mplstyle: \n",
      "The animation.avconv_args rcparam was deprecated in Matplotlib 3.3 and will be removed two minor releases later.\n"
     ]
    },
    {
     "name": "stdout",
     "output_type": "stream",
     "text": [
      "name: \"/device:GPU:0\"\n",
      "device_type: \"GPU\"\n",
      "memory_limit: 10561793600\n",
      "locality {\n",
      "  bus_id: 1\n",
      "  links {\n",
      "  }\n",
      "}\n",
      "incarnation: 11678055157591951821\n",
      "physical_device_desc: \"device: 0, name: GeForce RTX 2080 Ti, pci bus id: 0000:3b:00.0, compute capability: 7.5\"\n",
      "\n",
      "Tensorflow Version: 2.4.1\n"
     ]
    }
   ],
   "source": [
    "import os\n",
    "import numpy as np\n",
    "import tensorflow as tf \n",
    "import matplotlib.pyplot as plt\n",
    "%matplotlib inline\n",
    "\n",
    "os.environ['CUDA_VISIBLE_DEVICES'] = \"0\" #use GPU:0 only\n",
    "gpus = tf.config.experimental.list_physical_devices(device_type='GPU') \n",
    "for gpu in gpus:\n",
    "    tf.config.experimental.set_memory_growth(device=gpu,enable=True) \n",
    "\n",
    "from tensorflow.python.client import device_lib\n",
    "local_device_protos = device_lib.list_local_devices()\n",
    "#print GPU Devices\n",
    "[print(x) for x in local_device_protos if x.device_type == 'GPU']\n",
    "print('Tensorflow Version:',tf.__version__)"
   ]
  },
  {
   "cell_type": "markdown",
   "id": "36c8b6c3",
   "metadata": {},
   "source": [
    "# Preprocessing"
   ]
  },
  {
   "cell_type": "code",
   "execution_count": 2,
   "id": "0ea416ca",
   "metadata": {},
   "outputs": [
    {
     "name": "stdout",
     "output_type": "stream",
     "text": [
      "Original la shape: (2700, 3000)\n",
      "labels: ['a-helix' 'b-sheet' 'other-SS']\n"
     ]
    }
   ],
   "source": [
    "# load_data\n",
    "data_la = np.load('/data1/qzhang/small_dataset_pnas/original/original_dataset.npz')['la']\n",
    "labels = np.load('/data1/qzhang/small_dataset_pnas/original/original_dataset.npz')['labels']\n",
    "\n",
    "# oever view\n",
    "print('Original la shape:',data_la.shape)\n",
    "print('labels:',np.unique(labels))"
   ]
  },
  {
   "cell_type": "code",
   "execution_count": 3,
   "id": "527e870b",
   "metadata": {},
   "outputs": [
    {
     "name": "stdout",
     "output_type": "stream",
     "text": [
      "['a-helix' 'b-sheet' 'other-SS']\n",
      "[0 1 2]\n"
     ]
    }
   ],
   "source": [
    "# preprocess labels\n",
    "from sklearn.preprocessing import LabelEncoder\n",
    "encoder = LabelEncoder()\n",
    "labels_cat = encoder.fit_transform(labels)\n",
    "print(encoder.classes_)\n",
    "print(np.unique(labels_cat))"
   ]
  },
  {
   "cell_type": "code",
   "execution_count": 4,
   "id": "c7db4d56",
   "metadata": {},
   "outputs": [
    {
     "name": "stdout",
     "output_type": "stream",
     "text": [
      "Max per sample: 1.0000000000000002\n",
      "Min per sample: 0.0\n",
      "Train data: (1890, 3000, 1)\n",
      "Validation data: (270, 3000, 1)\n",
      "Test data: (540, 3000, 1)\n"
     ]
    }
   ],
   "source": [
    "# preprocess la data\n",
    "# preprocess\n",
    "\n",
    "from sklearn.preprocessing import minmax_scale\n",
    "data_la =  minmax_scale(data_la,axis=1)\n",
    "print('Max per sample:',data_la[0].max())\n",
    "print('Min per sample:',data_la[0].min())\n",
    "\n",
    "\n",
    "# split dataset\n",
    "from sklearn.model_selection import train_test_split\n",
    "train_data,test_data,train_label,test_label = train_test_split(data_la.reshape(-1,3000,1),labels_cat,\n",
    "                                                               stratify = labels_cat,\n",
    "                                                               test_size=0.2,\n",
    "                                                               random_state=42)\n",
    "\n",
    "train_x,val_x,train_y,val_y = train_test_split(train_data,train_label,stratify=train_label,\n",
    "                                               test_size = 0.125,random_state=42)\n",
    "\n",
    "\n",
    "print('Train data:',train_x.shape)\n",
    "print('Validation data:',val_x.shape)\n",
    "print('Test data:',test_data.shape)\n"
   ]
  },
  {
   "cell_type": "markdown",
   "id": "c353be1f",
   "metadata": {},
   "source": [
    "# Build a 1D CNN Demo"
   ]
  },
  {
   "cell_type": "code",
   "execution_count": 5,
   "id": "fe10ad92",
   "metadata": {},
   "outputs": [],
   "source": [
    "def build_model():\n",
    "\n",
    "    model = tf.keras.models.Sequential([\n",
    "        tf.keras.layers.Conv1D(64,10,activation='relu',input_shape=(3000,1),padding='same'),\n",
    "        tf.keras.layers.MaxPooling1D(10),\n",
    "        tf.keras.layers.Conv1D(64,10,activation='relu',padding='same'),\n",
    "        tf.keras.layers.MaxPooling1D(10),\n",
    "        tf.keras.layers.Dropout(0.25),\n",
    "        # tf.keras.layers.LSTM(32,return_sequences=True),\n",
    "        # tf.keras.layers.LSTM(32),\n",
    "        # tf.keras.layers.Dropout(0.25),\n",
    "        tf.keras.layers.Flatten(),\n",
    "        tf.keras.layers.Dense(128,activation='relu'),\n",
    "        tf.keras.layers.Dense(64,activation='relu'),\n",
    "        tf.keras.layers.Dropout(0.25),\n",
    "        tf.keras.layers.Dense(3,activation='softmax')\n",
    "    ])\n",
    "    model.compile(optimizer=tf.keras.optimizers.Adam(lr=0.0001),loss='sparse_categorical_crossentropy',\n",
    "                    metrics=['acc'])\n",
    "    return model"
   ]
  },
  {
   "cell_type": "code",
   "execution_count": 6,
   "id": "bb39fddd",
   "metadata": {
    "scrolled": true
   },
   "outputs": [
    {
     "name": "stdout",
     "output_type": "stream",
     "text": [
      "Epoch 1/50\n",
      "30/30 [==============================] - 4s 28ms/step - loss: 1.0926 - acc: 0.3610 - val_loss: 1.0708 - val_acc: 0.4444\n",
      "Epoch 2/50\n",
      "30/30 [==============================] - 0s 9ms/step - loss: 1.0709 - acc: 0.4333 - val_loss: 1.0001 - val_acc: 0.6444\n",
      "Epoch 3/50\n",
      "30/30 [==============================] - 0s 10ms/step - loss: 0.9976 - acc: 0.5496 - val_loss: 0.8856 - val_acc: 0.6407\n",
      "Epoch 4/50\n",
      "30/30 [==============================] - 0s 10ms/step - loss: 0.9223 - acc: 0.5960 - val_loss: 0.7948 - val_acc: 0.6852\n",
      "Epoch 5/50\n",
      "30/30 [==============================] - 0s 10ms/step - loss: 0.8321 - acc: 0.6464 - val_loss: 0.7250 - val_acc: 0.7111\n",
      "Epoch 6/50\n",
      "30/30 [==============================] - 0s 9ms/step - loss: 0.7890 - acc: 0.6610 - val_loss: 0.6791 - val_acc: 0.7259\n",
      "Epoch 7/50\n",
      "30/30 [==============================] - 0s 10ms/step - loss: 0.7439 - acc: 0.6921 - val_loss: 0.6483 - val_acc: 0.7407\n",
      "Epoch 8/50\n",
      "30/30 [==============================] - 0s 10ms/step - loss: 0.7371 - acc: 0.6853 - val_loss: 0.6209 - val_acc: 0.7407\n",
      "Epoch 9/50\n",
      "30/30 [==============================] - 0s 10ms/step - loss: 0.6876 - acc: 0.7160 - val_loss: 0.6055 - val_acc: 0.7556\n",
      "Epoch 10/50\n",
      "30/30 [==============================] - 0s 10ms/step - loss: 0.6574 - acc: 0.7381 - val_loss: 0.5950 - val_acc: 0.7556\n",
      "Epoch 11/50\n",
      "30/30 [==============================] - 0s 10ms/step - loss: 0.6579 - acc: 0.7474 - val_loss: 0.5863 - val_acc: 0.7593\n",
      "Epoch 12/50\n",
      "30/30 [==============================] - 0s 10ms/step - loss: 0.6547 - acc: 0.7332 - val_loss: 0.5881 - val_acc: 0.7630\n",
      "Epoch 13/50\n",
      "30/30 [==============================] - 0s 10ms/step - loss: 0.6192 - acc: 0.7615 - val_loss: 0.5768 - val_acc: 0.7704\n",
      "Epoch 14/50\n",
      "30/30 [==============================] - 0s 9ms/step - loss: 0.6162 - acc: 0.7642 - val_loss: 0.5648 - val_acc: 0.7852\n",
      "Epoch 15/50\n",
      "30/30 [==============================] - 0s 9ms/step - loss: 0.6053 - acc: 0.7679 - val_loss: 0.5606 - val_acc: 0.7852\n",
      "Epoch 16/50\n",
      "30/30 [==============================] - 0s 10ms/step - loss: 0.6187 - acc: 0.7426 - val_loss: 0.5632 - val_acc: 0.7741\n",
      "Epoch 17/50\n",
      "30/30 [==============================] - 0s 9ms/step - loss: 0.6074 - acc: 0.7649 - val_loss: 0.5510 - val_acc: 0.7815\n",
      "Epoch 18/50\n",
      "30/30 [==============================] - 0s 10ms/step - loss: 0.5754 - acc: 0.7769 - val_loss: 0.5517 - val_acc: 0.7926\n",
      "Epoch 19/50\n",
      "30/30 [==============================] - 0s 10ms/step - loss: 0.5589 - acc: 0.7708 - val_loss: 0.5425 - val_acc: 0.7926\n",
      "Epoch 20/50\n",
      "30/30 [==============================] - 0s 10ms/step - loss: 0.5557 - acc: 0.7869 - val_loss: 0.5412 - val_acc: 0.8000\n",
      "Epoch 21/50\n",
      "30/30 [==============================] - 0s 10ms/step - loss: 0.5860 - acc: 0.7839 - val_loss: 0.5351 - val_acc: 0.8000\n",
      "Epoch 22/50\n",
      "30/30 [==============================] - 0s 9ms/step - loss: 0.5685 - acc: 0.7785 - val_loss: 0.5434 - val_acc: 0.7852\n",
      "Epoch 23/50\n",
      "30/30 [==============================] - 0s 9ms/step - loss: 0.5767 - acc: 0.7787 - val_loss: 0.5396 - val_acc: 0.7926\n",
      "Epoch 24/50\n",
      "30/30 [==============================] - 0s 10ms/step - loss: 0.5713 - acc: 0.7787 - val_loss: 0.5287 - val_acc: 0.8037\n",
      "Epoch 25/50\n",
      "30/30 [==============================] - 0s 10ms/step - loss: 0.5535 - acc: 0.7889 - val_loss: 0.5285 - val_acc: 0.7852\n",
      "Epoch 26/50\n",
      "30/30 [==============================] - 0s 10ms/step - loss: 0.5834 - acc: 0.7657 - val_loss: 0.5288 - val_acc: 0.8037\n",
      "Epoch 27/50\n",
      "30/30 [==============================] - 0s 10ms/step - loss: 0.5749 - acc: 0.7614 - val_loss: 0.5268 - val_acc: 0.8074\n",
      "Epoch 28/50\n",
      "30/30 [==============================] - 0s 10ms/step - loss: 0.5816 - acc: 0.7643 - val_loss: 0.5229 - val_acc: 0.8111\n",
      "Epoch 29/50\n",
      "30/30 [==============================] - 0s 10ms/step - loss: 0.5833 - acc: 0.7732 - val_loss: 0.5348 - val_acc: 0.7889\n",
      "Epoch 30/50\n",
      "30/30 [==============================] - 0s 10ms/step - loss: 0.5837 - acc: 0.7702 - val_loss: 0.5136 - val_acc: 0.8148\n",
      "Epoch 31/50\n",
      "30/30 [==============================] - 0s 9ms/step - loss: 0.5551 - acc: 0.7890 - val_loss: 0.5142 - val_acc: 0.8111\n",
      "Epoch 32/50\n",
      "30/30 [==============================] - 0s 10ms/step - loss: 0.5224 - acc: 0.8005 - val_loss: 0.5135 - val_acc: 0.8074\n",
      "Epoch 33/50\n",
      "30/30 [==============================] - 0s 10ms/step - loss: 0.5435 - acc: 0.7905 - val_loss: 0.5106 - val_acc: 0.8074\n",
      "Epoch 34/50\n",
      "30/30 [==============================] - 0s 11ms/step - loss: 0.5133 - acc: 0.8083 - val_loss: 0.5102 - val_acc: 0.8037\n",
      "Epoch 35/50\n",
      "30/30 [==============================] - 0s 11ms/step - loss: 0.5455 - acc: 0.8033 - val_loss: 0.5152 - val_acc: 0.8000\n",
      "Epoch 36/50\n",
      "30/30 [==============================] - 0s 10ms/step - loss: 0.5662 - acc: 0.7904 - val_loss: 0.5059 - val_acc: 0.8111\n",
      "Epoch 37/50\n",
      "30/30 [==============================] - 0s 11ms/step - loss: 0.5360 - acc: 0.8005 - val_loss: 0.5097 - val_acc: 0.8074\n",
      "Epoch 38/50\n",
      "30/30 [==============================] - 0s 9ms/step - loss: 0.5306 - acc: 0.7977 - val_loss: 0.5081 - val_acc: 0.8074\n",
      "Epoch 39/50\n",
      "30/30 [==============================] - 0s 10ms/step - loss: 0.5367 - acc: 0.7985 - val_loss: 0.5010 - val_acc: 0.8074\n",
      "Epoch 40/50\n",
      "30/30 [==============================] - 0s 10ms/step - loss: 0.5205 - acc: 0.8023 - val_loss: 0.5050 - val_acc: 0.8111\n",
      "Epoch 41/50\n",
      "30/30 [==============================] - 0s 10ms/step - loss: 0.5175 - acc: 0.8086 - val_loss: 0.5010 - val_acc: 0.8074\n",
      "Epoch 42/50\n",
      "30/30 [==============================] - 0s 10ms/step - loss: 0.5251 - acc: 0.7988 - val_loss: 0.5023 - val_acc: 0.7963\n",
      "Epoch 43/50\n",
      "30/30 [==============================] - 0s 10ms/step - loss: 0.5087 - acc: 0.8146 - val_loss: 0.4960 - val_acc: 0.8148\n",
      "Epoch 44/50\n",
      "30/30 [==============================] - 0s 10ms/step - loss: 0.5040 - acc: 0.8048 - val_loss: 0.4950 - val_acc: 0.8074\n",
      "Epoch 45/50\n",
      "30/30 [==============================] - 0s 10ms/step - loss: 0.4970 - acc: 0.8116 - val_loss: 0.5046 - val_acc: 0.8074\n",
      "Epoch 46/50\n",
      "30/30 [==============================] - 0s 10ms/step - loss: 0.5224 - acc: 0.8038 - val_loss: 0.4884 - val_acc: 0.8148\n",
      "Epoch 47/50\n",
      "30/30 [==============================] - 0s 11ms/step - loss: 0.5361 - acc: 0.8012 - val_loss: 0.4991 - val_acc: 0.8037\n",
      "Epoch 48/50\n",
      "30/30 [==============================] - 0s 10ms/step - loss: 0.5000 - acc: 0.8140 - val_loss: 0.4838 - val_acc: 0.8148\n",
      "Epoch 49/50\n",
      "30/30 [==============================] - 0s 10ms/step - loss: 0.5170 - acc: 0.8144 - val_loss: 0.4898 - val_acc: 0.8074\n",
      "Epoch 50/50\n",
      "30/30 [==============================] - 0s 10ms/step - loss: 0.5067 - acc: 0.8202 - val_loss: 0.4899 - val_acc: 0.8074\n"
     ]
    }
   ],
   "source": [
    "model = build_model()\n",
    "history = model.fit(train_x,\n",
    "                   train_y, epochs=50, batch_size=64,\n",
    "                   validation_data=(val_x,val_y))"
   ]
  },
  {
   "cell_type": "code",
   "execution_count": 7,
   "id": "071b5115",
   "metadata": {},
   "outputs": [
    {
     "name": "stdout",
     "output_type": "stream",
     "text": [
      "Model: \"sequential\"\n",
      "_________________________________________________________________\n",
      "Layer (type)                 Output Shape              Param #   \n",
      "=================================================================\n",
      "conv1d (Conv1D)              (None, 3000, 64)          704       \n",
      "_________________________________________________________________\n",
      "max_pooling1d (MaxPooling1D) (None, 300, 64)           0         \n",
      "_________________________________________________________________\n",
      "conv1d_1 (Conv1D)            (None, 300, 64)           41024     \n",
      "_________________________________________________________________\n",
      "max_pooling1d_1 (MaxPooling1 (None, 30, 64)            0         \n",
      "_________________________________________________________________\n",
      "dropout (Dropout)            (None, 30, 64)            0         \n",
      "_________________________________________________________________\n",
      "flatten (Flatten)            (None, 1920)              0         \n",
      "_________________________________________________________________\n",
      "dense (Dense)                (None, 128)               245888    \n",
      "_________________________________________________________________\n",
      "dense_1 (Dense)              (None, 64)                8256      \n",
      "_________________________________________________________________\n",
      "dropout_1 (Dropout)          (None, 64)                0         \n",
      "_________________________________________________________________\n",
      "dense_2 (Dense)              (None, 3)                 195       \n",
      "=================================================================\n",
      "Total params: 296,067\n",
      "Trainable params: 296,067\n",
      "Non-trainable params: 0\n",
      "_________________________________________________________________\n"
     ]
    }
   ],
   "source": [
    "model.summary()"
   ]
  },
  {
   "cell_type": "markdown",
   "id": "ab8339a8",
   "metadata": {},
   "source": [
    "### Test test data"
   ]
  },
  {
   "cell_type": "code",
   "execution_count": 8,
   "id": "5a84b108",
   "metadata": {},
   "outputs": [
    {
     "name": "stdout",
     "output_type": "stream",
     "text": [
      "17/17 [==============================] - 0s 5ms/step - loss: 0.4705 - acc: 0.8056\n"
     ]
    },
    {
     "data": {
      "text/plain": [
       "[0.4704816937446594, 0.8055555820465088]"
      ]
     },
     "execution_count": 8,
     "metadata": {},
     "output_type": "execute_result"
    }
   ],
   "source": [
    "model.evaluate(test_data,test_label)"
   ]
  },
  {
   "cell_type": "markdown",
   "id": "cc6a05ea",
   "metadata": {},
   "source": [
    "### save demo model"
   ]
  },
  {
   "cell_type": "code",
   "execution_count": 9,
   "id": "9d70b9a3",
   "metadata": {},
   "outputs": [],
   "source": [
    "model.save('./1DCNNDemoModel.h5')"
   ]
  },
  {
   "cell_type": "code",
   "execution_count": null,
   "id": "2e06501a",
   "metadata": {},
   "outputs": [],
   "source": []
  }
 ],
 "metadata": {
  "kernelspec": {
   "display_name": "Python 3",
   "language": "python",
   "name": "python3"
  },
  "language_info": {
   "codemirror_mode": {
    "name": "ipython",
    "version": 3
   },
   "file_extension": ".py",
   "mimetype": "text/x-python",
   "name": "python",
   "nbconvert_exporter": "python",
   "pygments_lexer": "ipython3",
   "version": "3.7.10"
  }
 },
 "nbformat": 4,
 "nbformat_minor": 5
}
